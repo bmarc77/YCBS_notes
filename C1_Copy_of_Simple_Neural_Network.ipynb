{
  "nbformat": 4,
  "nbformat_minor": 0,
  "metadata": {
    "colab": {
      "name": "C1 Copy of Simple Neural Network.ipynb",
      "version": "0.3.2",
      "provenance": [],
      "include_colab_link": true
    },
    "kernelspec": {
      "name": "python3",
      "display_name": "Python 3"
    }
  },
  "cells": [
    {
      "cell_type": "markdown",
      "metadata": {
        "id": "view-in-github",
        "colab_type": "text"
      },
      "source": [
        "<a href=\"https://colab.research.google.com/github/nrkfeller/YCBS_notes/blob/master/C1_Copy_of_Simple_Neural_Network.ipynb\" target=\"_parent\"><img src=\"https://colab.research.google.com/assets/colab-badge.svg\" alt=\"Open In Colab\"/></a>"
      ]
    },
    {
      "cell_type": "markdown",
      "metadata": {
        "id": "DrA_VNTwoxdg",
        "colab_type": "text"
      },
      "source": [
        "# Simple Neural Network\n",
        "* Init - 3 weights for 3 inputs, between -1 and 1\n",
        "* Sigmoid - Ass weighted sums and flatten between 0 and 1\n",
        "* Sigmoid Derivative - Gradient of the sigmoid curve, how confident are we of the results (in slides)\n",
        "* Training - Pass data through network, calculate the error (absolute), update weights (one layer of backpropagation)\n",
        "* Think - Forward pass"
      ]
    },
    {
      "cell_type": "code",
      "metadata": {
        "id": "xtgWMWPzjheg",
        "colab_type": "code",
        "colab": {}
      },
      "source": [
        "from numpy import exp, array, random, dot\n",
        "\n",
        "\n",
        "class NeuralNetwork():\n",
        "  def __init__(self):\n",
        "    random.seed(1)\n",
        "    self.synaptic_weights = 2 * random.random((3, 1)) - 1\n",
        "\n",
        "  def __sigmoid(self, x):\n",
        "    return 1 / (1 + exp(-x))\n",
        "\n",
        "  def __sigmoid_derivative(self, x):\n",
        "    return x * (1 - x)\n",
        "\n",
        "  def train(self, training_set_inputs, training_set_outputs, number_of_training_iterations):\n",
        "    for iteration in range(number_of_training_iterations):\n",
        "\n",
        "      output = self.think(training_set_inputs)\n",
        "\n",
        "      error = training_set_outputs - output\n",
        "\n",
        "      adjustment = dot(training_set_inputs.T, error * self.__sigmoid_derivative(output))\n",
        "\n",
        "      self.synaptic_weights += adjustment\n",
        "  def think(self, inputs):\n",
        "    return self.__sigmoid(dot(inputs, self.synaptic_weights))"
      ],
      "execution_count": 0,
      "outputs": []
    },
    {
      "cell_type": "code",
      "metadata": {
        "id": "1NtNxNKRjsyC",
        "colab_type": "code",
        "outputId": "110eaf04-cde2-4ebe-cf13-a8929b598895",
        "colab": {
          "base_uri": "https://localhost:8080/",
          "height": 191
        }
      },
      "source": [
        "neural_network = NeuralNetwork()\n",
        "\n",
        "print (\"Random starting synaptic weights: \")\n",
        "print (neural_network.synaptic_weights)\n",
        "\n",
        "training_set_inputs = array([[0, 0, 1], \n",
        "                             [1, 1, 1], \n",
        "                             [1, 0, 1], \n",
        "                             [0, 1, 1]])\n",
        "training_set_outputs = array([[0, \n",
        "                               1, \n",
        "                               1, \n",
        "                               0]]).T\n",
        "\n",
        "\n",
        "neural_network.train(training_set_inputs, training_set_outputs, 10000)\n",
        "\n",
        "print (\"New synaptic weights after training: \")\n",
        "print (neural_network.synaptic_weights)\n",
        "\n",
        "print (\"Considering new situation [1, 0, 0] -> ?: \")\n",
        "print (neural_network.think(array([1, 0, 0])))"
      ],
      "execution_count": 0,
      "outputs": [
        {
          "output_type": "stream",
          "text": [
            "Random starting synaptic weights: \n",
            "[[-0.16595599]\n",
            " [ 0.44064899]\n",
            " [-0.99977125]]\n",
            "New synaptic weights after training: \n",
            "[[ 9.67299303]\n",
            " [-0.2078435 ]\n",
            " [-4.62963669]]\n",
            "Considering new situation [1, 0, 0] -> ?: \n",
            "[0.99993704]\n"
          ],
          "name": "stdout"
        }
      ]
    },
    {
      "cell_type": "code",
      "metadata": {
        "id": "XHPhfdM57lbO",
        "colab_type": "code",
        "colab": {}
      },
      "source": [
        ""
      ],
      "execution_count": 0,
      "outputs": []
    }
  ]
}