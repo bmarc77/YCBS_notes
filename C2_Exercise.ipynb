{
  "nbformat": 4,
  "nbformat_minor": 0,
  "metadata": {
    "colab": {
      "name": "C2. Exercise.ipynb",
      "version": "0.3.2",
      "provenance": [],
      "include_colab_link": true
    },
    "kernelspec": {
      "name": "python3",
      "display_name": "Python 3"
    }
  },
  "cells": [
    {
      "cell_type": "markdown",
      "metadata": {
        "id": "view-in-github",
        "colab_type": "text"
      },
      "source": [
        "<a href=\"https://colab.research.google.com/github/nrkfeller/YCBS_notes/blob/master/C2_Exercise.ipynb\" target=\"_parent\"><img src=\"https://colab.research.google.com/assets/colab-badge.svg\" alt=\"Open In Colab\"/></a>"
      ]
    },
    {
      "metadata": {
        "id": "xngjpzBreVJR",
        "colab_type": "text"
      },
      "cell_type": "markdown",
      "source": [
        "# Simple Housing Dataset\n",
        "Create a regression model that predicts the price of boston house"
      ]
    },
    {
      "metadata": {
        "id": "fSXwO4idDj76",
        "colab_type": "code",
        "colab": {}
      },
      "cell_type": "code",
      "source": [
        "!wget https://storage.googleapis.com/nicksdemobucket/housing-data.csv"
      ],
      "execution_count": 0,
      "outputs": []
    },
    {
      "metadata": {
        "id": "hr2LDZSilH2L",
        "colab_type": "text"
      },
      "cell_type": "markdown",
      "source": [
        "# Binary Classification\n",
        "Create a binary classifier for the titanic dataset, will person x survive?"
      ]
    },
    {
      "metadata": {
        "id": "RTLB0WDflUXw",
        "colab_type": "code",
        "colab": {}
      },
      "cell_type": "code",
      "source": [
        "!wget https://storage.googleapis.com/nicksdemobucket/titanic-train.csv"
      ],
      "execution_count": 0,
      "outputs": []
    },
    {
      "metadata": {
        "id": "7ph_DHhjee-_",
        "colab_type": "text"
      },
      "cell_type": "markdown",
      "source": [
        "# MNIST\n",
        "See how well a fully connected Neural Network performs on MNSIT"
      ]
    },
    {
      "metadata": {
        "id": "jaXOhTaUDqtg",
        "colab_type": "code",
        "colab": {}
      },
      "cell_type": "code",
      "source": [
        "(x_train, y_train), (x_test, y_test) = datasets.mnist.load_data()"
      ],
      "execution_count": 0,
      "outputs": []
    }
  ]
}