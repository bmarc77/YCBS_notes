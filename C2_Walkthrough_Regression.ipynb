{
  "nbformat": 4,
  "nbformat_minor": 0,
  "metadata": {
    "colab": {
      "name": "C2. Walkthrough Regression.ipynb",
      "version": "0.3.2",
      "provenance": [],
      "include_colab_link": true
    },
    "kernelspec": {
      "name": "python3",
      "display_name": "Python 3"
    }
  },
  "cells": [
    {
      "cell_type": "markdown",
      "metadata": {
        "id": "view-in-github",
        "colab_type": "text"
      },
      "source": [
        "<a href=\"https://colab.research.google.com/github/nrkfeller/YCBS_notes/blob/master/C2_Walkthrough_Regression.ipynb\" target=\"_parent\"><img src=\"https://colab.research.google.com/assets/colab-badge.svg\" alt=\"Open In Colab\"/></a>"
      ]
    },
    {
      "metadata": {
        "id": "tXciKeXSAiUr",
        "colab_type": "code",
        "colab": {}
      },
      "cell_type": "code",
      "source": [
        "import pandas as pd\n",
        "import seaborn as sns"
      ],
      "execution_count": 0,
      "outputs": []
    },
    {
      "metadata": {
        "id": "0tSFNJSSAeBm",
        "colab_type": "code",
        "outputId": "d308a9b8-8fde-45ae-9b8e-fd6dfa37f403",
        "colab": {
          "base_uri": "https://localhost:8080/",
          "height": 202
        }
      },
      "cell_type": "code",
      "source": [
        "!wget https://storage.googleapis.com/nicksdemobucket/wines.csv"
      ],
      "execution_count": 0,
      "outputs": [
        {
          "output_type": "stream",
          "text": [
            "--2019-03-18 22:54:02--  https://storage.googleapis.com/nicksdemobucket/wines.csv\n",
            "Resolving storage.googleapis.com (storage.googleapis.com)... 74.125.142.128, 2607:f8b0:400e:c08::80\n",
            "Connecting to storage.googleapis.com (storage.googleapis.com)|74.125.142.128|:443... connected.\n",
            "HTTP request sent, awaiting response... 200 OK\n",
            "Length: 10957 (11K) [application/octet-stream]\n",
            "Saving to: ‘wines.csv’\n",
            "\n",
            "\rwines.csv             0%[                    ]       0  --.-KB/s               \rwines.csv           100%[===================>]  10.70K  --.-KB/s    in 0s      \n",
            "\n",
            "2019-03-18 22:54:02 (57.9 MB/s) - ‘wines.csv’ saved [10957/10957]\n",
            "\n"
          ],
          "name": "stdout"
        }
      ]
    },
    {
      "metadata": {
        "id": "5qlAsEVaAfEc",
        "colab_type": "code",
        "colab": {}
      },
      "cell_type": "code",
      "source": [
        "df = pd.read_csv('wines.csv')"
      ],
      "execution_count": 0,
      "outputs": []
    },
    {
      "metadata": {
        "id": "KhlUFKrpAx5r",
        "colab_type": "code",
        "outputId": "3c2f9de2-1cb9-4cb4-c0f7-cf1ee49923c5",
        "colab": {
          "base_uri": "https://localhost:8080/",
          "height": 232
        }
      },
      "cell_type": "code",
      "source": [
        "df.head()"
      ],
      "execution_count": 0,
      "outputs": [
        {
          "output_type": "execute_result",
          "data": {
            "text/html": [
              "<div>\n",
              "<style scoped>\n",
              "    .dataframe tbody tr th:only-of-type {\n",
              "        vertical-align: middle;\n",
              "    }\n",
              "\n",
              "    .dataframe tbody tr th {\n",
              "        vertical-align: top;\n",
              "    }\n",
              "\n",
              "    .dataframe thead th {\n",
              "        text-align: right;\n",
              "    }\n",
              "</style>\n",
              "<table border=\"1\" class=\"dataframe\">\n",
              "  <thead>\n",
              "    <tr style=\"text-align: right;\">\n",
              "      <th></th>\n",
              "      <th>Class</th>\n",
              "      <th>Alcohol</th>\n",
              "      <th>Malic_acid</th>\n",
              "      <th>Ash</th>\n",
              "      <th>Alcalinity_of_ash</th>\n",
              "      <th>Magnesium</th>\n",
              "      <th>Total_phenols</th>\n",
              "      <th>Flavanoids</th>\n",
              "      <th>Nonflavanoid_phenols</th>\n",
              "      <th>Proanthocyanins</th>\n",
              "      <th>Color_intensity</th>\n",
              "      <th>Hue</th>\n",
              "      <th>OD280-OD315_of_diluted_wines</th>\n",
              "      <th>Proline</th>\n",
              "    </tr>\n",
              "  </thead>\n",
              "  <tbody>\n",
              "    <tr>\n",
              "      <th>0</th>\n",
              "      <td>1</td>\n",
              "      <td>14.23</td>\n",
              "      <td>1.71</td>\n",
              "      <td>2.43</td>\n",
              "      <td>15.6</td>\n",
              "      <td>127</td>\n",
              "      <td>2.80</td>\n",
              "      <td>3.06</td>\n",
              "      <td>0.28</td>\n",
              "      <td>2.29</td>\n",
              "      <td>5.64</td>\n",
              "      <td>1.04</td>\n",
              "      <td>3.92</td>\n",
              "      <td>1065</td>\n",
              "    </tr>\n",
              "    <tr>\n",
              "      <th>1</th>\n",
              "      <td>1</td>\n",
              "      <td>13.20</td>\n",
              "      <td>1.78</td>\n",
              "      <td>2.14</td>\n",
              "      <td>11.2</td>\n",
              "      <td>100</td>\n",
              "      <td>2.65</td>\n",
              "      <td>2.76</td>\n",
              "      <td>0.26</td>\n",
              "      <td>1.28</td>\n",
              "      <td>4.38</td>\n",
              "      <td>1.05</td>\n",
              "      <td>3.40</td>\n",
              "      <td>1050</td>\n",
              "    </tr>\n",
              "    <tr>\n",
              "      <th>2</th>\n",
              "      <td>1</td>\n",
              "      <td>13.16</td>\n",
              "      <td>2.36</td>\n",
              "      <td>2.67</td>\n",
              "      <td>18.6</td>\n",
              "      <td>101</td>\n",
              "      <td>2.80</td>\n",
              "      <td>3.24</td>\n",
              "      <td>0.30</td>\n",
              "      <td>2.81</td>\n",
              "      <td>5.68</td>\n",
              "      <td>1.03</td>\n",
              "      <td>3.17</td>\n",
              "      <td>1185</td>\n",
              "    </tr>\n",
              "    <tr>\n",
              "      <th>3</th>\n",
              "      <td>1</td>\n",
              "      <td>14.37</td>\n",
              "      <td>1.95</td>\n",
              "      <td>2.50</td>\n",
              "      <td>16.8</td>\n",
              "      <td>113</td>\n",
              "      <td>3.85</td>\n",
              "      <td>3.49</td>\n",
              "      <td>0.24</td>\n",
              "      <td>2.18</td>\n",
              "      <td>7.80</td>\n",
              "      <td>0.86</td>\n",
              "      <td>3.45</td>\n",
              "      <td>1480</td>\n",
              "    </tr>\n",
              "    <tr>\n",
              "      <th>4</th>\n",
              "      <td>1</td>\n",
              "      <td>13.24</td>\n",
              "      <td>2.59</td>\n",
              "      <td>2.87</td>\n",
              "      <td>21.0</td>\n",
              "      <td>118</td>\n",
              "      <td>2.80</td>\n",
              "      <td>2.69</td>\n",
              "      <td>0.39</td>\n",
              "      <td>1.82</td>\n",
              "      <td>4.32</td>\n",
              "      <td>1.04</td>\n",
              "      <td>2.93</td>\n",
              "      <td>735</td>\n",
              "    </tr>\n",
              "  </tbody>\n",
              "</table>\n",
              "</div>"
            ],
            "text/plain": [
              "   Class  Alcohol  Malic_acid   Ash  Alcalinity_of_ash  Magnesium  \\\n",
              "0      1    14.23        1.71  2.43               15.6        127   \n",
              "1      1    13.20        1.78  2.14               11.2        100   \n",
              "2      1    13.16        2.36  2.67               18.6        101   \n",
              "3      1    14.37        1.95  2.50               16.8        113   \n",
              "4      1    13.24        2.59  2.87               21.0        118   \n",
              "\n",
              "   Total_phenols  Flavanoids  Nonflavanoid_phenols  Proanthocyanins  \\\n",
              "0           2.80        3.06                  0.28             2.29   \n",
              "1           2.65        2.76                  0.26             1.28   \n",
              "2           2.80        3.24                  0.30             2.81   \n",
              "3           3.85        3.49                  0.24             2.18   \n",
              "4           2.80        2.69                  0.39             1.82   \n",
              "\n",
              "   Color_intensity   Hue  OD280-OD315_of_diluted_wines  Proline  \n",
              "0             5.64  1.04                          3.92     1065  \n",
              "1             4.38  1.05                          3.40     1050  \n",
              "2             5.68  1.03                          3.17     1185  \n",
              "3             7.80  0.86                          3.45     1480  \n",
              "4             4.32  1.04                          2.93      735  "
            ]
          },
          "metadata": {
            "tags": []
          },
          "execution_count": 9
        }
      ]
    },
    {
      "metadata": {
        "id": "A7cS17L-Ay1l",
        "colab_type": "code",
        "outputId": "c384d2dd-3cb4-4371-de80-bbb9c4feeb6e",
        "colab": {
          "base_uri": "https://localhost:8080/",
          "height": 34
        }
      },
      "cell_type": "code",
      "source": [
        "X = df.drop(['Alcohol'], axis=1).values\n",
        "X.shape"
      ],
      "execution_count": 0,
      "outputs": [
        {
          "output_type": "execute_result",
          "data": {
            "text/plain": [
              "(178, 13)"
            ]
          },
          "metadata": {
            "tags": []
          },
          "execution_count": 13
        }
      ]
    },
    {
      "metadata": {
        "id": "KVJYR6sRA6Dm",
        "colab_type": "code",
        "outputId": "10547135-f20e-4502-d4ff-f956fe171566",
        "colab": {
          "base_uri": "https://localhost:8080/",
          "height": 34
        }
      },
      "cell_type": "code",
      "source": [
        "y = df[['Alcohol']].values\n",
        "y.shape"
      ],
      "execution_count": 0,
      "outputs": [
        {
          "output_type": "execute_result",
          "data": {
            "text/plain": [
              "(178, 1)"
            ]
          },
          "metadata": {
            "tags": []
          },
          "execution_count": 16
        }
      ]
    },
    {
      "metadata": {
        "id": "iSnLOfQPBJhX",
        "colab_type": "code",
        "colab": {}
      },
      "cell_type": "code",
      "source": [
        "from tensorflow.keras.models import Sequential\n",
        "from tensorflow.keras.layers import Dense\n",
        "from tensorflow.train import AdamOptimizer"
      ],
      "execution_count": 0,
      "outputs": []
    },
    {
      "metadata": {
        "id": "ZX5aW805BWXp",
        "colab_type": "code",
        "colab": {}
      },
      "cell_type": "code",
      "source": [
        "model = Sequential()\n",
        "\n",
        "model.add(Dense(4, input_shape=(13,), activation='relu'))\n",
        "model.add(Dense(1))\n",
        "model.compile(loss='mean_squared_error',\n",
        "                optimizer=AdamOptimizer(0.01),\n",
        "                metrics=['mean_absolute_error', 'mean_squared_error'])"
      ],
      "execution_count": 0,
      "outputs": []
    },
    {
      "metadata": {
        "id": "LuAci7BqBx46",
        "colab_type": "code",
        "outputId": "697adf75-637b-42ed-9617-e19e7f6bc06d",
        "colab": {
          "base_uri": "https://localhost:8080/",
          "height": 3414
        }
      },
      "cell_type": "code",
      "source": [
        "h = model.fit(X, y, epochs=100, validation_split=0.2)"
      ],
      "execution_count": 0,
      "outputs": [
        {
          "output_type": "stream",
          "text": [
            "Train on 142 samples, validate on 36 samples\n",
            "Epoch 1/100\n",
            "142/142 [==============================] - 0s 804us/sample - loss: 138.3389 - mean_absolute_error: 10.5989 - mean_squared_error: 138.3389 - val_loss: 142.0060 - val_mean_absolute_error: 11.5320 - val_mean_squared_error: 142.0060\n",
            "Epoch 2/100\n",
            "142/142 [==============================] - 0s 97us/sample - loss: 137.6708 - mean_absolute_error: 11.1674 - mean_squared_error: 137.6707 - val_loss: 147.9996 - val_mean_absolute_error: 11.7336 - val_mean_squared_error: 147.9996\n",
            "Epoch 3/100\n",
            "142/142 [==============================] - 0s 80us/sample - loss: 127.0282 - mean_absolute_error: 10.4545 - mean_squared_error: 127.0282 - val_loss: 75.8923 - val_mean_absolute_error: 7.4713 - val_mean_squared_error: 75.8923\n",
            "Epoch 4/100\n",
            "142/142 [==============================] - 0s 89us/sample - loss: 105.2491 - mean_absolute_error: 9.0566 - mean_squared_error: 105.2491 - val_loss: 53.9499 - val_mean_absolute_error: 5.3282 - val_mean_squared_error: 53.9499\n",
            "Epoch 5/100\n",
            "142/142 [==============================] - 0s 97us/sample - loss: 107.5151 - mean_absolute_error: 9.0189 - mean_squared_error: 107.5151 - val_loss: 39.3490 - val_mean_absolute_error: 4.8374 - val_mean_squared_error: 39.3490\n",
            "Epoch 6/100\n",
            "142/142 [==============================] - 0s 92us/sample - loss: 92.4006 - mean_absolute_error: 8.3322 - mean_squared_error: 92.4006 - val_loss: 30.5367 - val_mean_absolute_error: 3.9786 - val_mean_squared_error: 30.5367\n",
            "Epoch 7/100\n",
            "142/142 [==============================] - 0s 90us/sample - loss: 81.6509 - mean_absolute_error: 7.7056 - mean_squared_error: 81.6509 - val_loss: 34.3502 - val_mean_absolute_error: 4.3640 - val_mean_squared_error: 34.3502\n",
            "Epoch 8/100\n",
            "142/142 [==============================] - 0s 103us/sample - loss: 64.7380 - mean_absolute_error: 6.8318 - mean_squared_error: 64.7380 - val_loss: 59.6596 - val_mean_absolute_error: 6.9379 - val_mean_squared_error: 59.6596\n",
            "Epoch 9/100\n",
            "142/142 [==============================] - 0s 94us/sample - loss: 36.3536 - mean_absolute_error: 4.8906 - mean_squared_error: 36.3536 - val_loss: 14.3199 - val_mean_absolute_error: 2.6849 - val_mean_squared_error: 14.3199\n",
            "Epoch 10/100\n",
            "142/142 [==============================] - 0s 94us/sample - loss: 20.5986 - mean_absolute_error: 3.5279 - mean_squared_error: 20.5986 - val_loss: 21.3856 - val_mean_absolute_error: 3.9563 - val_mean_squared_error: 21.3856\n",
            "Epoch 11/100\n",
            "142/142 [==============================] - 0s 101us/sample - loss: 13.3218 - mean_absolute_error: 2.8129 - mean_squared_error: 13.3218 - val_loss: 4.6232 - val_mean_absolute_error: 1.7094 - val_mean_squared_error: 4.6232\n",
            "Epoch 12/100\n",
            "142/142 [==============================] - 0s 91us/sample - loss: 7.1807 - mean_absolute_error: 1.8736 - mean_squared_error: 7.1807 - val_loss: 4.7370 - val_mean_absolute_error: 1.7019 - val_mean_squared_error: 4.7370\n",
            "Epoch 13/100\n",
            "142/142 [==============================] - 0s 86us/sample - loss: 5.3211 - mean_absolute_error: 1.7802 - mean_squared_error: 5.3211 - val_loss: 3.5531 - val_mean_absolute_error: 1.6278 - val_mean_squared_error: 3.5531\n",
            "Epoch 14/100\n",
            "142/142 [==============================] - 0s 104us/sample - loss: 5.0345 - mean_absolute_error: 1.6959 - mean_squared_error: 5.0345 - val_loss: 3.5293 - val_mean_absolute_error: 1.5865 - val_mean_squared_error: 3.5293\n",
            "Epoch 15/100\n",
            "142/142 [==============================] - 0s 111us/sample - loss: 5.1179 - mean_absolute_error: 1.7311 - mean_squared_error: 5.1179 - val_loss: 3.8434 - val_mean_absolute_error: 1.6704 - val_mean_squared_error: 3.8434\n",
            "Epoch 16/100\n",
            "142/142 [==============================] - 0s 94us/sample - loss: 5.2031 - mean_absolute_error: 1.8332 - mean_squared_error: 5.2031 - val_loss: 3.2930 - val_mean_absolute_error: 1.5350 - val_mean_squared_error: 3.2930\n",
            "Epoch 17/100\n",
            "142/142 [==============================] - 0s 93us/sample - loss: 5.2009 - mean_absolute_error: 1.7530 - mean_squared_error: 5.2009 - val_loss: 3.4112 - val_mean_absolute_error: 1.5520 - val_mean_squared_error: 3.4112\n",
            "Epoch 18/100\n",
            "142/142 [==============================] - 0s 91us/sample - loss: 4.7569 - mean_absolute_error: 1.7250 - mean_squared_error: 4.7569 - val_loss: 3.1266 - val_mean_absolute_error: 1.4938 - val_mean_squared_error: 3.1266\n",
            "Epoch 19/100\n",
            "142/142 [==============================] - 0s 85us/sample - loss: 4.6845 - mean_absolute_error: 1.6556 - mean_squared_error: 4.6845 - val_loss: 3.0907 - val_mean_absolute_error: 1.4776 - val_mean_squared_error: 3.0907\n",
            "Epoch 20/100\n",
            "142/142 [==============================] - 0s 82us/sample - loss: 4.6059 - mean_absolute_error: 1.6937 - mean_squared_error: 4.6059 - val_loss: 3.1310 - val_mean_absolute_error: 1.4935 - val_mean_squared_error: 3.1310\n",
            "Epoch 21/100\n",
            "142/142 [==============================] - 0s 94us/sample - loss: 4.4974 - mean_absolute_error: 1.6167 - mean_squared_error: 4.4974 - val_loss: 3.0206 - val_mean_absolute_error: 1.4733 - val_mean_squared_error: 3.0206\n",
            "Epoch 22/100\n",
            "142/142 [==============================] - 0s 114us/sample - loss: 4.4594 - mean_absolute_error: 1.6758 - mean_squared_error: 4.4594 - val_loss: 3.4180 - val_mean_absolute_error: 1.5151 - val_mean_squared_error: 3.4180\n",
            "Epoch 23/100\n",
            "142/142 [==============================] - 0s 87us/sample - loss: 4.4172 - mean_absolute_error: 1.5545 - mean_squared_error: 4.4172 - val_loss: 2.9294 - val_mean_absolute_error: 1.4540 - val_mean_squared_error: 2.9294\n",
            "Epoch 24/100\n",
            "142/142 [==============================] - 0s 97us/sample - loss: 4.4740 - mean_absolute_error: 1.6397 - mean_squared_error: 4.4740 - val_loss: 3.3746 - val_mean_absolute_error: 1.4955 - val_mean_squared_error: 3.3746\n",
            "Epoch 25/100\n",
            "142/142 [==============================] - 0s 85us/sample - loss: 4.0598 - mean_absolute_error: 1.5119 - mean_squared_error: 4.0598 - val_loss: 2.9355 - val_mean_absolute_error: 1.4734 - val_mean_squared_error: 2.9355\n",
            "Epoch 26/100\n",
            "142/142 [==============================] - 0s 88us/sample - loss: 4.4150 - mean_absolute_error: 1.6921 - mean_squared_error: 4.4150 - val_loss: 3.3939 - val_mean_absolute_error: 1.4831 - val_mean_squared_error: 3.3939\n",
            "Epoch 27/100\n",
            "142/142 [==============================] - 0s 93us/sample - loss: 3.9992 - mean_absolute_error: 1.5041 - mean_squared_error: 3.9992 - val_loss: 2.7597 - val_mean_absolute_error: 1.4146 - val_mean_squared_error: 2.7597\n",
            "Epoch 28/100\n",
            "142/142 [==============================] - 0s 83us/sample - loss: 4.0585 - mean_absolute_error: 1.5789 - mean_squared_error: 4.0585 - val_loss: 3.3067 - val_mean_absolute_error: 1.4592 - val_mean_squared_error: 3.3067\n",
            "Epoch 29/100\n",
            "142/142 [==============================] - 0s 99us/sample - loss: 3.9820 - mean_absolute_error: 1.4943 - mean_squared_error: 3.9820 - val_loss: 2.6337 - val_mean_absolute_error: 1.3624 - val_mean_squared_error: 2.6337\n",
            "Epoch 30/100\n",
            "142/142 [==============================] - 0s 97us/sample - loss: 3.7053 - mean_absolute_error: 1.4667 - mean_squared_error: 3.7053 - val_loss: 3.0440 - val_mean_absolute_error: 1.4144 - val_mean_squared_error: 3.0440\n",
            "Epoch 31/100\n",
            "142/142 [==============================] - 0s 86us/sample - loss: 3.7057 - mean_absolute_error: 1.4478 - mean_squared_error: 3.7057 - val_loss: 2.6445 - val_mean_absolute_error: 1.3524 - val_mean_squared_error: 2.6445\n",
            "Epoch 32/100\n",
            "142/142 [==============================] - 0s 101us/sample - loss: 3.8414 - mean_absolute_error: 1.4563 - mean_squared_error: 3.8414 - val_loss: 2.5508 - val_mean_absolute_error: 1.3288 - val_mean_squared_error: 2.5508\n",
            "Epoch 33/100\n",
            "142/142 [==============================] - 0s 86us/sample - loss: 3.6012 - mean_absolute_error: 1.4433 - mean_squared_error: 3.6012 - val_loss: 2.8815 - val_mean_absolute_error: 1.3743 - val_mean_squared_error: 2.8815\n",
            "Epoch 34/100\n",
            "142/142 [==============================] - 0s 102us/sample - loss: 3.6107 - mean_absolute_error: 1.4406 - mean_squared_error: 3.6107 - val_loss: 2.5421 - val_mean_absolute_error: 1.3193 - val_mean_squared_error: 2.5421\n",
            "Epoch 35/100\n",
            "142/142 [==============================] - 0s 85us/sample - loss: 3.4148 - mean_absolute_error: 1.4095 - mean_squared_error: 3.4148 - val_loss: 2.6355 - val_mean_absolute_error: 1.3279 - val_mean_squared_error: 2.6355\n",
            "Epoch 36/100\n",
            "142/142 [==============================] - 0s 83us/sample - loss: 3.3347 - mean_absolute_error: 1.3750 - mean_squared_error: 3.3347 - val_loss: 2.6393 - val_mean_absolute_error: 1.3218 - val_mean_squared_error: 2.6393\n",
            "Epoch 37/100\n",
            "142/142 [==============================] - 0s 92us/sample - loss: 3.2758 - mean_absolute_error: 1.3537 - mean_squared_error: 3.2758 - val_loss: 2.6103 - val_mean_absolute_error: 1.3123 - val_mean_squared_error: 2.6103\n",
            "Epoch 38/100\n",
            "142/142 [==============================] - 0s 102us/sample - loss: 3.3126 - mean_absolute_error: 1.3571 - mean_squared_error: 3.3126 - val_loss: 2.3846 - val_mean_absolute_error: 1.2724 - val_mean_squared_error: 2.3846\n",
            "Epoch 39/100\n",
            "142/142 [==============================] - 0s 93us/sample - loss: 3.1854 - mean_absolute_error: 1.3456 - mean_squared_error: 3.1854 - val_loss: 2.8823 - val_mean_absolute_error: 1.3474 - val_mean_squared_error: 2.8823\n",
            "Epoch 40/100\n",
            "142/142 [==============================] - 0s 80us/sample - loss: 3.2775 - mean_absolute_error: 1.3600 - mean_squared_error: 3.2775 - val_loss: 2.3362 - val_mean_absolute_error: 1.2542 - val_mean_squared_error: 2.3362\n",
            "Epoch 41/100\n",
            "142/142 [==============================] - 0s 93us/sample - loss: 3.1079 - mean_absolute_error: 1.3232 - mean_squared_error: 3.1079 - val_loss: 2.3941 - val_mean_absolute_error: 1.2569 - val_mean_squared_error: 2.3941\n",
            "Epoch 42/100\n",
            "142/142 [==============================] - 0s 91us/sample - loss: 3.0508 - mean_absolute_error: 1.3173 - mean_squared_error: 3.0508 - val_loss: 2.8022 - val_mean_absolute_error: 1.3233 - val_mean_squared_error: 2.8022\n",
            "Epoch 43/100\n",
            "142/142 [==============================] - 0s 91us/sample - loss: 3.2738 - mean_absolute_error: 1.3607 - mean_squared_error: 3.2738 - val_loss: 2.1769 - val_mean_absolute_error: 1.2511 - val_mean_squared_error: 2.1769\n",
            "Epoch 44/100\n",
            "142/142 [==============================] - 0s 82us/sample - loss: 3.1459 - mean_absolute_error: 1.4186 - mean_squared_error: 3.1459 - val_loss: 3.2291 - val_mean_absolute_error: 1.4027 - val_mean_squared_error: 3.2291\n",
            "Epoch 45/100\n",
            "142/142 [==============================] - 0s 87us/sample - loss: 3.5576 - mean_absolute_error: 1.4605 - mean_squared_error: 3.5576 - val_loss: 2.0997 - val_mean_absolute_error: 1.2146 - val_mean_squared_error: 2.0997\n",
            "Epoch 46/100\n",
            "142/142 [==============================] - 0s 92us/sample - loss: 3.2998 - mean_absolute_error: 1.3576 - mean_squared_error: 3.2998 - val_loss: 2.2320 - val_mean_absolute_error: 1.2048 - val_mean_squared_error: 2.2320\n",
            "Epoch 47/100\n",
            "142/142 [==============================] - 0s 87us/sample - loss: 3.2030 - mean_absolute_error: 1.4040 - mean_squared_error: 3.2030 - val_loss: 2.8131 - val_mean_absolute_error: 1.3127 - val_mean_squared_error: 2.8131\n",
            "Epoch 48/100\n",
            "142/142 [==============================] - 0s 95us/sample - loss: 3.3025 - mean_absolute_error: 1.3408 - mean_squared_error: 3.3025 - val_loss: 2.0158 - val_mean_absolute_error: 1.1881 - val_mean_squared_error: 2.0158\n",
            "Epoch 49/100\n",
            "142/142 [==============================] - 0s 90us/sample - loss: 2.7652 - mean_absolute_error: 1.2943 - mean_squared_error: 2.7652 - val_loss: 2.8171 - val_mean_absolute_error: 1.3118 - val_mean_squared_error: 2.8171\n",
            "Epoch 50/100\n",
            "142/142 [==============================] - 0s 111us/sample - loss: 2.8414 - mean_absolute_error: 1.2791 - mean_squared_error: 2.8414 - val_loss: 2.0416 - val_mean_absolute_error: 1.1590 - val_mean_squared_error: 2.0416\n",
            "Epoch 51/100\n",
            "142/142 [==============================] - 0s 88us/sample - loss: 2.7028 - mean_absolute_error: 1.2591 - mean_squared_error: 2.7028 - val_loss: 2.2122 - val_mean_absolute_error: 1.1861 - val_mean_squared_error: 2.2122\n",
            "Epoch 52/100\n",
            "142/142 [==============================] - 0s 91us/sample - loss: 2.6568 - mean_absolute_error: 1.2402 - mean_squared_error: 2.6568 - val_loss: 2.3229 - val_mean_absolute_error: 1.2059 - val_mean_squared_error: 2.3229\n",
            "Epoch 53/100\n",
            "142/142 [==============================] - 0s 88us/sample - loss: 2.7097 - mean_absolute_error: 1.2394 - mean_squared_error: 2.7097 - val_loss: 1.9632 - val_mean_absolute_error: 1.1376 - val_mean_squared_error: 1.9632\n",
            "Epoch 54/100\n",
            "142/142 [==============================] - 0s 91us/sample - loss: 2.7149 - mean_absolute_error: 1.2467 - mean_squared_error: 2.7149 - val_loss: 2.0737 - val_mean_absolute_error: 1.1470 - val_mean_squared_error: 2.0737\n",
            "Epoch 55/100\n",
            "142/142 [==============================] - 0s 85us/sample - loss: 2.5589 - mean_absolute_error: 1.2270 - mean_squared_error: 2.5589 - val_loss: 2.0578 - val_mean_absolute_error: 1.1414 - val_mean_squared_error: 2.0578\n",
            "Epoch 56/100\n",
            "142/142 [==============================] - 0s 89us/sample - loss: 2.4972 - mean_absolute_error: 1.2009 - mean_squared_error: 2.4972 - val_loss: 2.2114 - val_mean_absolute_error: 1.1726 - val_mean_squared_error: 2.2114\n",
            "Epoch 57/100\n",
            "142/142 [==============================] - 0s 95us/sample - loss: 2.4913 - mean_absolute_error: 1.1923 - mean_squared_error: 2.4913 - val_loss: 1.8382 - val_mean_absolute_error: 1.1123 - val_mean_squared_error: 1.8382\n",
            "Epoch 58/100\n",
            "142/142 [==============================] - 0s 84us/sample - loss: 2.6242 - mean_absolute_error: 1.2779 - mean_squared_error: 2.6242 - val_loss: 2.7939 - val_mean_absolute_error: 1.3139 - val_mean_squared_error: 2.7939\n",
            "Epoch 59/100\n",
            "142/142 [==============================] - 0s 98us/sample - loss: 2.5274 - mean_absolute_error: 1.1916 - mean_squared_error: 2.5274 - val_loss: 1.7773 - val_mean_absolute_error: 1.1055 - val_mean_squared_error: 1.7773\n",
            "Epoch 60/100\n",
            "142/142 [==============================] - 0s 103us/sample - loss: 2.5331 - mean_absolute_error: 1.2023 - mean_squared_error: 2.5331 - val_loss: 2.8517 - val_mean_absolute_error: 1.3337 - val_mean_squared_error: 2.8517\n",
            "Epoch 61/100\n",
            "142/142 [==============================] - 0s 96us/sample - loss: 3.0347 - mean_absolute_error: 1.3869 - mean_squared_error: 3.0347 - val_loss: 1.9488 - val_mean_absolute_error: 1.1061 - val_mean_squared_error: 1.9488\n",
            "Epoch 62/100\n",
            "142/142 [==============================] - 0s 95us/sample - loss: 3.1027 - mean_absolute_error: 1.3270 - mean_squared_error: 3.1027 - val_loss: 1.7137 - val_mean_absolute_error: 1.0907 - val_mean_squared_error: 1.7137\n",
            "Epoch 63/100\n",
            "142/142 [==============================] - 0s 94us/sample - loss: 2.7453 - mean_absolute_error: 1.3131 - mean_squared_error: 2.7453 - val_loss: 2.8875 - val_mean_absolute_error: 1.3520 - val_mean_squared_error: 2.8875\n",
            "Epoch 64/100\n",
            "142/142 [==============================] - 0s 89us/sample - loss: 2.8211 - mean_absolute_error: 1.2995 - mean_squared_error: 2.8211 - val_loss: 1.8263 - val_mean_absolute_error: 1.0736 - val_mean_squared_error: 1.8263\n",
            "Epoch 65/100\n",
            "142/142 [==============================] - 0s 85us/sample - loss: 2.2497 - mean_absolute_error: 1.1375 - mean_squared_error: 2.2497 - val_loss: 2.0272 - val_mean_absolute_error: 1.1117 - val_mean_squared_error: 2.0272\n",
            "Epoch 66/100\n",
            "142/142 [==============================] - 0s 99us/sample - loss: 2.2851 - mean_absolute_error: 1.1606 - mean_squared_error: 2.2851 - val_loss: 1.6888 - val_mean_absolute_error: 1.0477 - val_mean_squared_error: 1.6888\n",
            "Epoch 67/100\n",
            "142/142 [==============================] - 0s 96us/sample - loss: 2.2304 - mean_absolute_error: 1.1288 - mean_squared_error: 2.2304 - val_loss: 2.4363 - val_mean_absolute_error: 1.2277 - val_mean_squared_error: 2.4363\n",
            "Epoch 68/100\n",
            "142/142 [==============================] - 0s 83us/sample - loss: 2.2088 - mean_absolute_error: 1.1241 - mean_squared_error: 2.2088 - val_loss: 1.6402 - val_mean_absolute_error: 1.0349 - val_mean_squared_error: 1.6402\n",
            "Epoch 69/100\n",
            "142/142 [==============================] - 0s 98us/sample - loss: 2.2538 - mean_absolute_error: 1.1824 - mean_squared_error: 2.2538 - val_loss: 2.4749 - val_mean_absolute_error: 1.2431 - val_mean_squared_error: 2.4749\n",
            "Epoch 70/100\n",
            "142/142 [==============================] - 0s 88us/sample - loss: 2.2902 - mean_absolute_error: 1.1202 - mean_squared_error: 2.2902 - val_loss: 1.8808 - val_mean_absolute_error: 1.0679 - val_mean_squared_error: 1.8808\n",
            "Epoch 71/100\n",
            "142/142 [==============================] - 0s 86us/sample - loss: 2.1420 - mean_absolute_error: 1.1282 - mean_squared_error: 2.1420 - val_loss: 1.8357 - val_mean_absolute_error: 1.0557 - val_mean_squared_error: 1.8357\n",
            "Epoch 72/100\n",
            "142/142 [==============================] - 0s 114us/sample - loss: 2.1053 - mean_absolute_error: 1.1107 - mean_squared_error: 2.1053 - val_loss: 1.8298 - val_mean_absolute_error: 1.0527 - val_mean_squared_error: 1.8298\n",
            "Epoch 73/100\n",
            "142/142 [==============================] - 0s 88us/sample - loss: 2.0594 - mean_absolute_error: 1.1009 - mean_squared_error: 2.0594 - val_loss: 1.9028 - val_mean_absolute_error: 1.0692 - val_mean_squared_error: 1.9028\n",
            "Epoch 74/100\n",
            "142/142 [==============================] - 0s 84us/sample - loss: 2.0558 - mean_absolute_error: 1.0883 - mean_squared_error: 2.0558 - val_loss: 1.7259 - val_mean_absolute_error: 1.0254 - val_mean_squared_error: 1.7259\n",
            "Epoch 75/100\n",
            "142/142 [==============================] - 0s 102us/sample - loss: 2.1259 - mean_absolute_error: 1.1007 - mean_squared_error: 2.1259 - val_loss: 1.9272 - val_mean_absolute_error: 1.0736 - val_mean_squared_error: 1.9272\n",
            "Epoch 76/100\n",
            "142/142 [==============================] - 0s 113us/sample - loss: 2.0730 - mean_absolute_error: 1.0972 - mean_squared_error: 2.0730 - val_loss: 2.0261 - val_mean_absolute_error: 1.1060 - val_mean_squared_error: 2.0261\n",
            "Epoch 77/100\n",
            "142/142 [==============================] - 0s 84us/sample - loss: 1.9947 - mean_absolute_error: 1.0717 - mean_squared_error: 1.9947 - val_loss: 1.6845 - val_mean_absolute_error: 1.0104 - val_mean_squared_error: 1.6845\n",
            "Epoch 78/100\n",
            "142/142 [==============================] - 0s 76us/sample - loss: 2.0172 - mean_absolute_error: 1.1037 - mean_squared_error: 2.0172 - val_loss: 2.3914 - val_mean_absolute_error: 1.2340 - val_mean_squared_error: 2.3914\n",
            "Epoch 79/100\n",
            "142/142 [==============================] - 0s 94us/sample - loss: 2.1924 - mean_absolute_error: 1.1244 - mean_squared_error: 2.1924 - val_loss: 1.4655 - val_mean_absolute_error: 1.0160 - val_mean_squared_error: 1.4654\n",
            "Epoch 80/100\n",
            "142/142 [==============================] - 0s 98us/sample - loss: 2.5282 - mean_absolute_error: 1.2255 - mean_squared_error: 2.5282 - val_loss: 2.5078 - val_mean_absolute_error: 1.2724 - val_mean_squared_error: 2.5078\n",
            "Epoch 81/100\n",
            "142/142 [==============================] - 0s 106us/sample - loss: 2.0054 - mean_absolute_error: 1.0805 - mean_squared_error: 2.0054 - val_loss: 1.5719 - val_mean_absolute_error: 0.9862 - val_mean_squared_error: 1.5719\n",
            "Epoch 82/100\n",
            "142/142 [==============================] - 0s 86us/sample - loss: 2.0555 - mean_absolute_error: 1.0944 - mean_squared_error: 2.0555 - val_loss: 1.6685 - val_mean_absolute_error: 1.0008 - val_mean_squared_error: 1.6685\n",
            "Epoch 83/100\n",
            "142/142 [==============================] - 0s 83us/sample - loss: 2.3216 - mean_absolute_error: 1.2122 - mean_squared_error: 2.3216 - val_loss: 3.1166 - val_mean_absolute_error: 1.4461 - val_mean_squared_error: 3.1166\n",
            "Epoch 84/100\n",
            "142/142 [==============================] - 0s 100us/sample - loss: 2.4294 - mean_absolute_error: 1.1618 - mean_squared_error: 2.4294 - val_loss: 1.4502 - val_mean_absolute_error: 1.0187 - val_mean_squared_error: 1.4502\n",
            "Epoch 85/100\n",
            "142/142 [==============================] - 0s 86us/sample - loss: 2.4527 - mean_absolute_error: 1.2374 - mean_squared_error: 2.4527 - val_loss: 3.1766 - val_mean_absolute_error: 1.4654 - val_mean_squared_error: 3.1766\n",
            "Epoch 86/100\n",
            "142/142 [==============================] - 0s 93us/sample - loss: 2.3593 - mean_absolute_error: 1.1951 - mean_squared_error: 2.3593 - val_loss: 1.6778 - val_mean_absolute_error: 1.0051 - val_mean_squared_error: 1.6778\n",
            "Epoch 87/100\n",
            "142/142 [==============================] - 0s 95us/sample - loss: 2.1568 - mean_absolute_error: 1.0907 - mean_squared_error: 2.1568 - val_loss: 1.5271 - val_mean_absolute_error: 0.9653 - val_mean_squared_error: 1.5271\n",
            "Epoch 88/100\n",
            "142/142 [==============================] - 0s 77us/sample - loss: 1.9639 - mean_absolute_error: 1.0932 - mean_squared_error: 1.9639 - val_loss: 1.7761 - val_mean_absolute_error: 1.0359 - val_mean_squared_error: 1.7761\n",
            "Epoch 89/100\n",
            "142/142 [==============================] - 0s 105us/sample - loss: 1.8366 - mean_absolute_error: 1.0435 - mean_squared_error: 1.8366 - val_loss: 1.6511 - val_mean_absolute_error: 0.9972 - val_mean_squared_error: 1.6511\n",
            "Epoch 90/100\n",
            "142/142 [==============================] - 0s 131us/sample - loss: 1.9123 - mean_absolute_error: 1.0689 - mean_squared_error: 1.9123 - val_loss: 2.2810 - val_mean_absolute_error: 1.2175 - val_mean_squared_error: 2.2810\n",
            "Epoch 91/100\n",
            "142/142 [==============================] - 0s 113us/sample - loss: 2.0636 - mean_absolute_error: 1.0739 - mean_squared_error: 2.0636 - val_loss: 1.3565 - val_mean_absolute_error: 0.9766 - val_mean_squared_error: 1.3565\n",
            "Epoch 92/100\n",
            "142/142 [==============================] - 0s 107us/sample - loss: 2.4623 - mean_absolute_error: 1.3075 - mean_squared_error: 2.4623 - val_loss: 3.5580 - val_mean_absolute_error: 1.5689 - val_mean_squared_error: 3.5580\n",
            "Epoch 93/100\n",
            "142/142 [==============================] - 0s 101us/sample - loss: 2.2392 - mean_absolute_error: 1.1449 - mean_squared_error: 2.2392 - val_loss: 1.3695 - val_mean_absolute_error: 0.9367 - val_mean_squared_error: 1.3695\n",
            "Epoch 94/100\n",
            "142/142 [==============================] - 0s 127us/sample - loss: 1.8090 - mean_absolute_error: 1.0318 - mean_squared_error: 1.8090 - val_loss: 2.1267 - val_mean_absolute_error: 1.1700 - val_mean_squared_error: 2.1267\n",
            "Epoch 95/100\n",
            "142/142 [==============================] - 0s 97us/sample - loss: 2.0248 - mean_absolute_error: 1.0743 - mean_squared_error: 2.0248 - val_loss: 2.2988 - val_mean_absolute_error: 1.2264 - val_mean_squared_error: 2.2988\n",
            "Epoch 96/100\n",
            "142/142 [==============================] - 0s 99us/sample - loss: 1.7938 - mean_absolute_error: 1.0227 - mean_squared_error: 1.7938 - val_loss: 1.4027 - val_mean_absolute_error: 0.9355 - val_mean_squared_error: 1.4027\n",
            "Epoch 97/100\n",
            "142/142 [==============================] - 0s 99us/sample - loss: 1.7440 - mean_absolute_error: 1.0152 - mean_squared_error: 1.7440 - val_loss: 2.7911 - val_mean_absolute_error: 1.3755 - val_mean_squared_error: 2.7911\n",
            "Epoch 98/100\n",
            "142/142 [==============================] - 0s 118us/sample - loss: 1.8070 - mean_absolute_error: 1.0252 - mean_squared_error: 1.8070 - val_loss: 1.2625 - val_mean_absolute_error: 0.9194 - val_mean_squared_error: 1.2625\n",
            "Epoch 99/100\n",
            "142/142 [==============================] - 0s 91us/sample - loss: 2.1444 - mean_absolute_error: 1.1492 - mean_squared_error: 2.1444 - val_loss: 3.3243 - val_mean_absolute_error: 1.5192 - val_mean_squared_error: 3.3243\n",
            "Epoch 100/100\n",
            "142/142 [==============================] - 0s 121us/sample - loss: 2.2944 - mean_absolute_error: 1.2054 - mean_squared_error: 2.2944 - val_loss: 1.5899 - val_mean_absolute_error: 0.9814 - val_mean_squared_error: 1.5899\n"
          ],
          "name": "stdout"
        }
      ]
    },
    {
      "metadata": {
        "id": "B5y65E35DFeH",
        "colab_type": "code",
        "outputId": "dd49c408-fc75-4031-ec17-0b146d1213cb",
        "colab": {
          "base_uri": "https://localhost:8080/",
          "height": 54
        }
      },
      "cell_type": "code",
      "source": [
        "h.history.keys()"
      ],
      "execution_count": 0,
      "outputs": [
        {
          "output_type": "execute_result",
          "data": {
            "text/plain": [
              "dict_keys(['loss', 'mean_absolute_error', 'mean_squared_error', 'val_loss', 'val_mean_absolute_error', 'val_mean_squared_error'])"
            ]
          },
          "metadata": {
            "tags": []
          },
          "execution_count": 36
        }
      ]
    },
    {
      "metadata": {
        "id": "SUbmS8cvCFa0",
        "colab_type": "code",
        "outputId": "ef5e6693-c748-4eea-88fb-ec74c69700a2",
        "colab": {
          "base_uri": "https://localhost:8080/",
          "height": 364
        }
      },
      "cell_type": "code",
      "source": [
        "import matplotlib.pyplot as plt\n",
        "plt.plot(h.history['mean_absolute_error'])\n",
        "plt.plot(h.history['val_mean_absolute_error'])"
      ],
      "execution_count": 0,
      "outputs": [
        {
          "output_type": "execute_result",
          "data": {
            "text/plain": [
              "[<matplotlib.lines.Line2D at 0x7fd0ea1e2080>]"
            ]
          },
          "metadata": {
            "tags": []
          },
          "execution_count": 37
        },
        {
          "output_type": "display_data",
          "data": {
            "image/png": "[encoded data removed]",
            "text/plain": [
              "<Figure size 576x396 with 1 Axes>"
            ]
          },
          "metadata": {
            "tags": []
          }
        }
      ]
    },
    {
      "metadata": {
        "id": "yd4DgedyDLnQ",
        "colab_type": "code",
        "colab": {}
      },
      "cell_type": "code",
      "source": [
        ""
      ],
      "execution_count": 0,
      "outputs": []
    }
  ]
}