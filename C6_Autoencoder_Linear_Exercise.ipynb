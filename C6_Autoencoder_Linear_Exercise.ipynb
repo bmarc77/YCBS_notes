{
  "nbformat": 4,
  "nbformat_minor": 0,
  "metadata": {
    "colab": {
      "name": "C6 Autoencoder Linear Exercise.ipynb",
      "version": "0.3.2",
      "provenance": [],
      "include_colab_link": true
    },
    "kernelspec": {
      "name": "python3",
      "display_name": "Python 3"
    }
  },
  "cells": [
    {
      "cell_type": "markdown",
      "metadata": {
        "id": "view-in-github",
        "colab_type": "text"
      },
      "source": [
        "<a href=\"https://colab.research.google.com/github/nrkfeller/YCBS_notes/blob/master/C6_Autoencoder_Linear_Exercise.ipynb\" target=\"_parent\"><img src=\"https://colab.research.google.com/assets/colab-badge.svg\" alt=\"Open In Colab\"/></a>"
      ]
    },
    {
      "metadata": {
        "id": "K5VI-l7e6c9M",
        "colab_type": "code",
        "colab": {}
      },
      "cell_type": "code",
      "source": [
        "import numpy as np\n",
        "import pandas as pd\n",
        "import matplotlib.pyplot as plt\n",
        "\n",
        "from tensorflow.keras.models import Sequential\n",
        "from tensorflow.keras.layers import Dense\n",
        "from tensorflow.keras import Model"
      ],
      "execution_count": 0,
      "outputs": []
    },
    {
      "metadata": {
        "id": "0KYN8VNb6mkR",
        "colab_type": "code",
        "colab": {
          "base_uri": "https://localhost:8080/",
          "height": 224
        },
        "outputId": "3c42a042-d2d5-43fe-de63-2a8466614c77"
      },
      "cell_type": "code",
      "source": [
        "!wget https://storage.googleapis.com/nicksdemobucket/anonymized_data.csv"
      ],
      "execution_count": 2,
      "outputs": [
        {
          "output_type": "stream",
          "text": [
            "--2019-04-12 14:21:11--  https://storage.googleapis.com/nicksdemobucket/anonymized_data.csv\n",
            "Resolving storage.googleapis.com (storage.googleapis.com)... 74.125.141.128, 2607:f8b0:400c:c06::80\n",
            "Connecting to storage.googleapis.com (storage.googleapis.com)|74.125.141.128|:443... connected.\n",
            "HTTP request sent, awaiting response... 200 OK\n",
            "Length: 284033 (277K) [application/octet-stream]\n",
            "Saving to: ‘anonymized_data.csv.1’\n",
            "\n",
            "\ranonymized_data.csv   0%[                    ]       0  --.-KB/s               \ranonymized_data.csv 100%[===================>] 277.38K  --.-KB/s    in 0.004s  \n",
            "\n",
            "2019-04-12 14:21:11 (70.0 MB/s) - ‘anonymized_data.csv.1’ saved [284033/284033]\n",
            "\n"
          ],
          "name": "stdout"
        }
      ]
    },
    {
      "metadata": {
        "id": "orIzchym6w0W",
        "colab_type": "code",
        "colab": {
          "base_uri": "https://localhost:8080/",
          "height": 253
        },
        "outputId": "9eded781-d381-4444-bca1-1bfa38437833"
      },
      "cell_type": "code",
      "source": [
        "df = pd.read_csv('anonymized_data.csv')\n",
        "df.head()"
      ],
      "execution_count": 3,
      "outputs": [
        {
          "output_type": "execute_result",
          "data": {
            "text/html": [
              "<div>\n",
              "<style scoped>\n",
              "    .dataframe tbody tr th:only-of-type {\n",
              "        vertical-align: middle;\n",
              "    }\n",
              "\n",
              "    .dataframe tbody tr th {\n",
              "        vertical-align: top;\n",
              "    }\n",
              "\n",
              "    .dataframe thead th {\n",
              "        text-align: right;\n",
              "    }\n",
              "</style>\n",
              "<table border=\"1\" class=\"dataframe\">\n",
              "  <thead>\n",
              "    <tr style=\"text-align: right;\">\n",
              "      <th></th>\n",
              "      <th>EJWY</th>\n",
              "      <th>VALM</th>\n",
              "      <th>EGXO</th>\n",
              "      <th>HTGR</th>\n",
              "      <th>SKRF</th>\n",
              "      <th>NNSZ</th>\n",
              "      <th>NYLC</th>\n",
              "      <th>GWID</th>\n",
              "      <th>TVUT</th>\n",
              "      <th>CJHI</th>\n",
              "      <th>...</th>\n",
              "      <th>LKKS</th>\n",
              "      <th>UOBF</th>\n",
              "      <th>VBHE</th>\n",
              "      <th>FRWU</th>\n",
              "      <th>NDYZ</th>\n",
              "      <th>QSBO</th>\n",
              "      <th>JDUB</th>\n",
              "      <th>TEVK</th>\n",
              "      <th>EZTM</th>\n",
              "      <th>Label</th>\n",
              "    </tr>\n",
              "  </thead>\n",
              "  <tbody>\n",
              "    <tr>\n",
              "      <th>0</th>\n",
              "      <td>-2.032145</td>\n",
              "      <td>1.019576</td>\n",
              "      <td>-9.658715</td>\n",
              "      <td>-6.210495</td>\n",
              "      <td>3.156823</td>\n",
              "      <td>7.457850</td>\n",
              "      <td>-5.313357</td>\n",
              "      <td>8.508296</td>\n",
              "      <td>3.959194</td>\n",
              "      <td>-5.246654</td>\n",
              "      <td>...</td>\n",
              "      <td>-2.209663</td>\n",
              "      <td>-10.340123</td>\n",
              "      <td>-7.697555</td>\n",
              "      <td>-5.932752</td>\n",
              "      <td>10.872688</td>\n",
              "      <td>0.081321</td>\n",
              "      <td>1.276316</td>\n",
              "      <td>5.281225</td>\n",
              "      <td>-0.516447</td>\n",
              "      <td>0.0</td>\n",
              "    </tr>\n",
              "    <tr>\n",
              "      <th>1</th>\n",
              "      <td>8.306217</td>\n",
              "      <td>6.649376</td>\n",
              "      <td>-0.960333</td>\n",
              "      <td>-4.094799</td>\n",
              "      <td>8.738965</td>\n",
              "      <td>-3.458797</td>\n",
              "      <td>7.016800</td>\n",
              "      <td>6.692765</td>\n",
              "      <td>0.898264</td>\n",
              "      <td>9.337643</td>\n",
              "      <td>...</td>\n",
              "      <td>0.851793</td>\n",
              "      <td>-9.678324</td>\n",
              "      <td>-6.071795</td>\n",
              "      <td>1.428194</td>\n",
              "      <td>-8.082792</td>\n",
              "      <td>-0.557089</td>\n",
              "      <td>-7.817282</td>\n",
              "      <td>-8.686722</td>\n",
              "      <td>-6.953100</td>\n",
              "      <td>1.0</td>\n",
              "    </tr>\n",
              "    <tr>\n",
              "      <th>2</th>\n",
              "      <td>6.570842</td>\n",
              "      <td>6.985462</td>\n",
              "      <td>-1.842621</td>\n",
              "      <td>-1.569599</td>\n",
              "      <td>10.039339</td>\n",
              "      <td>-3.623026</td>\n",
              "      <td>8.957619</td>\n",
              "      <td>7.577283</td>\n",
              "      <td>1.541255</td>\n",
              "      <td>7.161509</td>\n",
              "      <td>...</td>\n",
              "      <td>1.376085</td>\n",
              "      <td>-8.971164</td>\n",
              "      <td>-5.302191</td>\n",
              "      <td>2.898965</td>\n",
              "      <td>-8.746597</td>\n",
              "      <td>-0.520888</td>\n",
              "      <td>-7.350999</td>\n",
              "      <td>-8.925501</td>\n",
              "      <td>-7.051179</td>\n",
              "      <td>1.0</td>\n",
              "    </tr>\n",
              "    <tr>\n",
              "      <th>3</th>\n",
              "      <td>-1.139972</td>\n",
              "      <td>0.579422</td>\n",
              "      <td>-9.526530</td>\n",
              "      <td>-5.744928</td>\n",
              "      <td>4.834355</td>\n",
              "      <td>5.907235</td>\n",
              "      <td>-4.804137</td>\n",
              "      <td>6.798810</td>\n",
              "      <td>5.403670</td>\n",
              "      <td>-7.642857</td>\n",
              "      <td>...</td>\n",
              "      <td>0.270571</td>\n",
              "      <td>-8.640988</td>\n",
              "      <td>-8.105419</td>\n",
              "      <td>-5.079015</td>\n",
              "      <td>9.351282</td>\n",
              "      <td>0.641759</td>\n",
              "      <td>1.898083</td>\n",
              "      <td>3.904671</td>\n",
              "      <td>1.453499</td>\n",
              "      <td>0.0</td>\n",
              "    </tr>\n",
              "    <tr>\n",
              "      <th>4</th>\n",
              "      <td>-1.738104</td>\n",
              "      <td>0.234729</td>\n",
              "      <td>-11.558768</td>\n",
              "      <td>-7.181332</td>\n",
              "      <td>4.189626</td>\n",
              "      <td>7.765274</td>\n",
              "      <td>-2.189083</td>\n",
              "      <td>7.239925</td>\n",
              "      <td>3.135602</td>\n",
              "      <td>-6.211390</td>\n",
              "      <td>...</td>\n",
              "      <td>-0.013973</td>\n",
              "      <td>-9.437110</td>\n",
              "      <td>-6.475267</td>\n",
              "      <td>-5.708377</td>\n",
              "      <td>9.623080</td>\n",
              "      <td>1.802899</td>\n",
              "      <td>1.903705</td>\n",
              "      <td>4.188442</td>\n",
              "      <td>1.522362</td>\n",
              "      <td>0.0</td>\n",
              "    </tr>\n",
              "  </tbody>\n",
              "</table>\n",
              "<p>5 rows × 31 columns</p>\n",
              "</div>"
            ],
            "text/plain": [
              "       EJWY      VALM       EGXO      HTGR       SKRF      NNSZ      NYLC  \\\n",
              "0 -2.032145  1.019576  -9.658715 -6.210495   3.156823  7.457850 -5.313357   \n",
              "1  8.306217  6.649376  -0.960333 -4.094799   8.738965 -3.458797  7.016800   \n",
              "2  6.570842  6.985462  -1.842621 -1.569599  10.039339 -3.623026  8.957619   \n",
              "3 -1.139972  0.579422  -9.526530 -5.744928   4.834355  5.907235 -4.804137   \n",
              "4 -1.738104  0.234729 -11.558768 -7.181332   4.189626  7.765274 -2.189083   \n",
              "\n",
              "       GWID      TVUT      CJHI  ...        LKKS       UOBF      VBHE  \\\n",
              "0  8.508296  3.959194 -5.246654  ...   -2.209663 -10.340123 -7.697555   \n",
              "1  6.692765  0.898264  9.337643  ...    0.851793  -9.678324 -6.071795   \n",
              "2  7.577283  1.541255  7.161509  ...    1.376085  -8.971164 -5.302191   \n",
              "3  6.798810  5.403670 -7.642857  ...    0.270571  -8.640988 -8.105419   \n",
              "4  7.239925  3.135602 -6.211390  ...   -0.013973  -9.437110 -6.475267   \n",
              "\n",
              "       FRWU       NDYZ      QSBO      JDUB      TEVK      EZTM  Label  \n",
              "0 -5.932752  10.872688  0.081321  1.276316  5.281225 -0.516447    0.0  \n",
              "1  1.428194  -8.082792 -0.557089 -7.817282 -8.686722 -6.953100    1.0  \n",
              "2  2.898965  -8.746597 -0.520888 -7.350999 -8.925501 -7.051179    1.0  \n",
              "3 -5.079015   9.351282  0.641759  1.898083  3.904671  1.453499    0.0  \n",
              "4 -5.708377   9.623080  1.802899  1.903705  4.188442  1.522362    0.0  \n",
              "\n",
              "[5 rows x 31 columns]"
            ]
          },
          "metadata": {
            "tags": []
          },
          "execution_count": 3
        }
      ]
    },
    {
      "metadata": {
        "id": "2R8oPwvh64C2",
        "colab_type": "code",
        "colab": {}
      },
      "cell_type": "code",
      "source": [
        ""
      ],
      "execution_count": 0,
      "outputs": []
    }
  ]
}