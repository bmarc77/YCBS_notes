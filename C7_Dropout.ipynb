{
  "nbformat": 4,
  "nbformat_minor": 0,
  "metadata": {
    "colab": {
      "name": "C7 Dropout.ipynb",
      "version": "0.3.2",
      "provenance": [],
      "include_colab_link": true
    },
    "kernelspec": {
      "name": "python3",
      "display_name": "Python 3"
    },
    "accelerator": "GPU"
  },
  "cells": [
    {
      "cell_type": "markdown",
      "metadata": {
        "id": "view-in-github",
        "colab_type": "text"
      },
      "source": [
        "<a href=\"https://colab.research.google.com/github/nrkfeller/YCBS_notes/blob/master/C7_Dropout.ipynb\" target=\"_parent\"><img src=\"https://colab.research.google.com/assets/colab-badge.svg\" alt=\"Open In Colab\"/></a>"
      ]
    },
    {
      "metadata": {
        "id": "RcGcIM3DL2sz",
        "colab_type": "text"
      },
      "cell_type": "markdown",
      "source": [
        "# Import and Data"
      ]
    },
    {
      "metadata": {
        "id": "fxj9hxCrL3La",
        "colab_type": "code",
        "colab": {
          "base_uri": "https://localhost:8080/",
          "height": 34
        },
        "outputId": "9dba8ca2-ce34-4e16-9d8c-a5d4639ef1b1"
      },
      "cell_type": "code",
      "source": [
        "from keras.layers import Dropout\n",
        "\n",
        "\n",
        "import pandas as pd\n",
        "import numpy as np\n",
        "%matplotlib inline\n",
        "import matplotlib.pyplot as plt\n",
        "\n",
        "from sklearn.datasets import load_digits\n",
        "from sklearn.model_selection import train_test_split\n",
        "\n",
        "from keras.utils import to_categorical\n",
        "from keras.models import Sequential\n",
        "from keras.layers import Dense, Conv2D, Flatten, MaxPool2D\n",
        "from keras.utils import to_categorical\n",
        "import keras.backend as K\n",
        "from keras.callbacks import EarlyStopping\n",
        "from tensorflow.keras.datasets import mnist"
      ],
      "execution_count": 1,
      "outputs": [
        {
          "output_type": "stream",
          "text": [
            "Using TensorFlow backend.\n"
          ],
          "name": "stderr"
        }
      ]
    },
    {
      "metadata": {
        "id": "Ih1cIEsVL7IE",
        "colab_type": "code",
        "colab": {
          "base_uri": "https://localhost:8080/",
          "height": 88
        },
        "outputId": "07b080f0-52d7-4aa1-c927-1671110c5699"
      },
      "cell_type": "code",
      "source": [
        "(X_train, y_train), (X_test, y_test) = mnist.load_data('/tmp/mnist.npz')\n",
        "y_train = to_categorical(y_train)\n",
        "y_test = to_categorical(y_test)\n",
        "\n",
        "\n",
        "\n",
        "X_train = X_train.reshape(-1, 28, 28, 1)\n",
        "X_test = X_test.reshape(-1, 28, 28, 1)\n",
        "X_train.shape, X_test.shape"
      ],
      "execution_count": 2,
      "outputs": [
        {
          "output_type": "stream",
          "text": [
            "Downloading data from https://storage.googleapis.com/tensorflow/tf-keras-datasets/mnist.npz\n",
            "11493376/11490434 [==============================] - 0s 0us/step\n"
          ],
          "name": "stdout"
        },
        {
          "output_type": "execute_result",
          "data": {
            "text/plain": [
              "((60000, 28, 28, 1), (10000, 28, 28, 1))"
            ]
          },
          "metadata": {
            "tags": []
          },
          "execution_count": 2
        }
      ]
    },
    {
      "metadata": {
        "id": "wbg5IZQNL-UE",
        "colab_type": "text"
      },
      "cell_type": "markdown",
      "source": [
        "# Dropout"
      ]
    },
    {
      "metadata": {
        "id": "dzfXpWljL8pl",
        "colab_type": "code",
        "colab": {}
      },
      "cell_type": "code",
      "source": [
        "def repeated_training(X_train,\n",
        "                      y_train,\n",
        "                      X_test,\n",
        "                      y_test,\n",
        "                      units=512,\n",
        "                      activation='relu',\n",
        "                      optimizer='sgd',\n",
        "                      do_do=False,\n",
        "                      epochs=10,\n",
        "                      repeats=3):\n",
        "    histories = []\n",
        "    \n",
        "    for repeat in range(repeats):\n",
        "        K.clear_session()\n",
        "\n",
        "        model = Sequential()\n",
        "        \n",
        "        # first fully connected layer\n",
        "        model.add(Conv2D(8, (3, 3), activation='relu', input_shape=(28, 28, 1)))\n",
        "        model.add(Conv2D(8, (3, 3), activation='relu'))\n",
        "        model.add(MaxPool2D(pool_size=(2, 2)))\n",
        "        if do_do:\n",
        "            model.add(Dropout(0.5))\n",
        "\n",
        "        # second fully connected layer\n",
        "        model.add(Flatten())\n",
        "\n",
        "        model.add(Dense(128, activation='relu'))\n",
        "      \n",
        "        if do_do:\n",
        "            model.add(Dropout(0.5))\n",
        "\n",
        "        # third fully connected layer\n",
        "        model.add(Dense(10, activation='softmax'))\n",
        "        \n",
        "        model.compile(optimizer,\n",
        "                      'categorical_crossentropy',\n",
        "                      metrics=['accuracy'])\n",
        "\n",
        "        h = model.fit(X_train, y_train,\n",
        "                      validation_data=(X_test, y_test),\n",
        "                      epochs=epochs,\n",
        "                      verbose=0)\n",
        "        histories.append([h.history['acc'], h.history['val_acc']])\n",
        "        print(repeat, end=' ')\n",
        "\n",
        "    histories = np.array(histories)\n",
        "    \n",
        "    # calculate mean and standard deviation across repeats:\n",
        "    mean_acc = histories.mean(axis=0)\n",
        "    std_acc = histories.std(axis=0)\n",
        "    print()\n",
        "    \n",
        "    return mean_acc[0], std_acc[0], mean_acc[1], std_acc[1]"
      ],
      "execution_count": 0,
      "outputs": []
    },
    {
      "metadata": {
        "id": "tQKdu-gNMJqM",
        "colab_type": "code",
        "colab": {
          "base_uri": "https://localhost:8080/",
          "height": 34
        },
        "outputId": "b1293b45-8384-448d-c27c-2536d997da93"
      },
      "cell_type": "code",
      "source": [
        "mean_acc, std_acc, mean_acc_val, std_acc_val = \\\n",
        "    repeated_training(X_train, y_train, X_test, y_test, do_do=False)"
      ],
      "execution_count": 9,
      "outputs": [
        {
          "output_type": "stream",
          "text": [
            "0 1 2 \n"
          ],
          "name": "stdout"
        }
      ]
    },
    {
      "metadata": {
        "id": "DX4LVyJsMMBC",
        "colab_type": "code",
        "colab": {}
      },
      "cell_type": "code",
      "source": [
        "mean_acc_bn, std_acc_bn, mean_acc_val_bn, std_acc_val_bn = \\\n",
        "    repeated_training(X_train, y_train, X_test, y_test, do_do=True)"
      ],
      "execution_count": 0,
      "outputs": []
    },
    {
      "metadata": {
        "id": "EOzqf1CVMN11",
        "colab_type": "code",
        "colab": {}
      },
      "cell_type": "code",
      "source": [
        "def plot_mean_std(m, s):\n",
        "    plt.plot(m)\n",
        "    plt.fill_between(range(len(m)), m-s, m+s, alpha=0.1)"
      ],
      "execution_count": 0,
      "outputs": []
    },
    {
      "metadata": {
        "id": "nihNWTnzMPh4",
        "colab_type": "code",
        "colab": {}
      },
      "cell_type": "code",
      "source": [
        "plot_mean_std(mean_acc, std_acc)\n",
        "plot_mean_std(mean_acc_val, std_acc_val)\n",
        "plot_mean_std(mean_acc_bn, std_acc_bn)\n",
        "plot_mean_std(mean_acc_val_bn, std_acc_val_bn)\n",
        "plt.ylim(0, 1.01)\n",
        "plt.title(\"Dropout Accuracy\")\n",
        "plt.xlabel('Epochs')\n",
        "plt.ylabel('Accuracy')\n"
      ],
      "execution_count": 0,
      "outputs": []
    },
    {
      "metadata": {
        "id": "DSldYtneMe5o",
        "colab_type": "code",
        "colab": {}
      },
      "cell_type": "code",
      "source": [
        ""
      ],
      "execution_count": 0,
      "outputs": []
    }
  ]
}