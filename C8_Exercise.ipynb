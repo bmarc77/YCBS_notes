{
  "nbformat": 4,
  "nbformat_minor": 0,
  "metadata": {
    "colab": {
      "name": "C8 Exercise",
      "version": "0.3.2",
      "provenance": [],
      "include_colab_link": true
    },
    "kernelspec": {
      "name": "python3",
      "display_name": "Python 3"
    }
  },
  "cells": [
    {
      "cell_type": "markdown",
      "metadata": {
        "id": "view-in-github",
        "colab_type": "text"
      },
      "source": [
        "<a href=\"https://colab.research.google.com/github/nrkfeller/YCBS_notes/blob/master/C8_Exercise.ipynb\" target=\"_parent\"><img src=\"https://colab.research.google.com/assets/colab-badge.svg\" alt=\"Open In Colab\"/></a>"
      ]
    },
    {
      "metadata": {
        "id": "putfXPMpF0jR",
        "colab_type": "text"
      },
      "cell_type": "markdown",
      "source": [
        "# Deploy Keras Model to the Cloud\n",
        "1. Download data\n",
        "2. Hot Encode Categorical Columns\n",
        "3. Develop Model (use: ```RMSprop(lr=, rho=, epsilon=, decay=)```)\n",
        "3. Create Storage Bucket (should already exist)\n",
        "4. Authenticate on Google Cloud Platform\n",
        "5. Deploy your model using the ```gcloud``` tool"
      ]
    },
    {
      "metadata": {
        "id": "zmrM3kybHDyd",
        "colab_type": "text"
      },
      "cell_type": "markdown",
      "source": [
        "### Download Data"
      ]
    },
    {
      "metadata": {
        "id": "8NDi_3HKF1HX",
        "colab_type": "code",
        "colab": {}
      },
      "cell_type": "code",
      "source": [
        "!wget https://storage.googleapis.com/nicksdemobucket/bank.csv"
      ],
      "execution_count": 0,
      "outputs": []
    },
    {
      "metadata": {
        "id": "zr6x0ZPu8pPl",
        "colab_type": "code",
        "colab": {}
      },
      "cell_type": "code",
      "source": [
        "import pandas as pd\n",
        "df = pd.read_csv('bank.csv', sep=\";\")\n",
        "df.head()"
      ],
      "execution_count": 0,
      "outputs": []
    },
    {
      "metadata": {
        "id": "RewodRHUHGjx",
        "colab_type": "text"
      },
      "cell_type": "markdown",
      "source": [
        "### Hot Encode Categorical Columns"
      ]
    },
    {
      "metadata": {
        "id": "0FgX6Gk8EAZ3",
        "colab_type": "code",
        "colab": {}
      },
      "cell_type": "code",
      "source": [
        "# Get all categorical columns\n",
        "categorical = df.select_dtypes(include='object').columns\n",
        "print(categorical)"
      ],
      "execution_count": 0,
      "outputs": []
    },
    {
      "metadata": {
        "id": "Mxu-8ZFsAmUc",
        "colab_type": "code",
        "colab": {}
      },
      "cell_type": "code",
      "source": [
        "# Hot encode all categorical columns\n",
        "for i in categorical:\n",
        "  new_cols = pd.get_dummies(df[i], prefix=i)\n",
        "  df = df.drop(i, axis=1)\n",
        "  df = df.join(new_cols)\n",
        "  \n",
        "df.head()"
      ],
      "execution_count": 0,
      "outputs": []
    },
    {
      "metadata": {
        "id": "TLE-YdGKJMbL",
        "colab_type": "code",
        "colab": {}
      },
      "cell_type": "code",
      "source": [
        "from sklearn.model_selection import train_test_split\n",
        "\n",
        "train, test = train_test_split(df, test_size=0.001)\n",
        "\n",
        "X_train = train.drop(['y_no', 'y_yes'], axis=1).values\n",
        "y_train = train[['y_no', 'y_yes']].values\n",
        "\n",
        "X_test = test.drop(['y_no', 'y_yes'], axis=1).values\n",
        "y_test = test[['y_no', 'y_yes']].values\n",
        "\n",
        "X_train.shape, y_train.shape, X_test.shape, y_test.shape"
      ],
      "execution_count": 0,
      "outputs": []
    },
    {
      "metadata": {
        "id": "fZHgH04CHNiV",
        "colab_type": "text"
      },
      "cell_type": "markdown",
      "source": [
        "### Develop Model\n",
        "* Use ```RMSprop(lr=, rho=, epsilon=, decay=)```\n",
        "* Plot accuracy and loss over time"
      ]
    },
    {
      "metadata": {
        "id": "4TaT51LMD2YH",
        "colab_type": "code",
        "colab": {}
      },
      "cell_type": "code",
      "source": [
        "from tensorflow.keras.models import Sequential\n",
        "from tensorflow.keras.layers import Dense\n",
        "from tensorflow.train import AdamOptimizer\n",
        "import tensorflow as tf"
      ],
      "execution_count": 0,
      "outputs": []
    },
    {
      "metadata": {
        "id": "56v5Mvj-JQ9Y",
        "colab_type": "code",
        "colab": {}
      },
      "cell_type": "code",
      "source": [
        ""
      ],
      "execution_count": 0,
      "outputs": []
    },
    {
      "metadata": {
        "id": "mq9A4bHJHkQr",
        "colab_type": "text"
      },
      "cell_type": "markdown",
      "source": [
        "### Create Storage"
      ]
    },
    {
      "metadata": {
        "id": "QEOTrJtMHk4-",
        "colab_type": "code",
        "colab": {}
      },
      "cell_type": "code",
      "source": [
        "PROJECT_ID = \"\" #@param {type:\"string\"}\n",
        "\n",
        "# This must absolutely be a GLOBALLY UNIQUE name\n",
        "BUCKET_NAME = \"\" #@param {type:\"string\"}\n",
        "REGION = \"us-central1\" #@param {type:\"string\"}\n",
        "\n",
        "! gcloud config set project $PROJECT_ID\n",
        "! echo $PROJECT_ID"
      ],
      "execution_count": 0,
      "outputs": []
    },
    {
      "metadata": {
        "id": "0y-SjCPfH1B_",
        "colab_type": "text"
      },
      "cell_type": "markdown",
      "source": [
        "### Authenticate on Google Cloud Platform\n",
        "* Click on link and enter secret key"
      ]
    },
    {
      "metadata": {
        "id": "RW3JsOW8Hz1Z",
        "colab_type": "code",
        "colab": {}
      },
      "cell_type": "code",
      "source": [
        "import sys\n",
        "\n",
        "if 'google.colab' in sys.modules:\n",
        "  from google.colab import auth as google_auth\n",
        "  google_auth.authenticate_user()\n",
        "else:\n",
        "  %env GOOGLE_APPLICATION_CREDENTIALS ''"
      ],
      "execution_count": 0,
      "outputs": []
    },
    {
      "metadata": {
        "id": "g7eISVjCHylz",
        "colab_type": "code",
        "colab": {}
      },
      "cell_type": "code",
      "source": [
        "# Create Bucket\n",
        "! gsutil mb -p $PROJECT_ID -l $REGION gs://$BUCKET_NAME\n",
        "# Display what is in the bucket\n",
        "!gsutil ls -al gs://$BUCKET_NAME"
      ],
      "execution_count": 0,
      "outputs": []
    },
    {
      "metadata": {
        "id": "CeE9tLq9H9Ex",
        "colab_type": "code",
        "colab": {}
      },
      "cell_type": "code",
      "source": [
        "JOB_DIR = 'gs://' + BUCKET_NAME + '/modelfolder'"
      ],
      "execution_count": 0,
      "outputs": []
    },
    {
      "metadata": {
        "id": "Amk9dnhGIQRA",
        "colab_type": "text"
      },
      "cell_type": "markdown",
      "source": [
        "### Export Model to Google Cloud Storage"
      ]
    },
    {
      "metadata": {
        "id": "cC2nJWD_ITdE",
        "colab_type": "code",
        "colab": {}
      },
      "cell_type": "code",
      "source": [
        "export_path = tf.contrib.saved_model.save_keras_model(model, JOB_DIR + '/keras_export')\n",
        "print(\"Model exported to: \", export_path)"
      ],
      "execution_count": 0,
      "outputs": []
    },
    {
      "metadata": {
        "id": "aUCv7VEPIgQF",
        "colab_type": "text"
      },
      "cell_type": "markdown",
      "source": [
        "### Deploy Model from GCS"
      ]
    },
    {
      "metadata": {
        "id": "juC8akMaIWE6",
        "colab_type": "code",
        "colab": {}
      },
      "cell_type": "code",
      "source": [
        ""
      ],
      "execution_count": 0,
      "outputs": []
    },
    {
      "metadata": {
        "id": "OFQLJMcKInQ8",
        "colab_type": "text"
      },
      "cell_type": "markdown",
      "source": [
        "### Test your model with your test set"
      ]
    },
    {
      "metadata": {
        "id": "I7j2UKY6IyCL",
        "colab_type": "code",
        "colab": {}
      },
      "cell_type": "code",
      "source": [
        "# import numpy as np\n",
        "# for i in X_test:\n",
        "#   #print(\"%a\" % i)\n",
        "#   print(i, sep=',')\n",
        "\n",
        "with open('test.json', 'w') as f:\n",
        "  for item in X_test:\n",
        "    item = list(item)\n",
        "    f.write(\"%s\\n\" % item)"
      ],
      "execution_count": 0,
      "outputs": []
    },
    {
      "metadata": {
        "id": "sUV8nwesNF8h",
        "colab_type": "code",
        "colab": {}
      },
      "cell_type": "code",
      "source": [
        "! cat test.json"
      ],
      "execution_count": 0,
      "outputs": []
    },
    {
      "metadata": {
        "id": "2UM71gCuNfe3",
        "colab_type": "code",
        "colab": {}
      },
      "cell_type": "code",
      "source": [
        ""
      ],
      "execution_count": 0,
      "outputs": []
    }
  ]
}